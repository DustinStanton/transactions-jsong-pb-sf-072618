{
 "cells": [
  {
   "cell_type": "markdown",
   "metadata": {},
   "source": [
    "# Parsing Transactions\n",
    "\n",
    "Transactions are at the heart of Bitcoin. Transactions, simply put, are value transfers from one entity to another. We'll see later how \"entities\" in this case are really smart contracts. But we're getting ahead of ourselves. Lets first look at what transactions in Bitcoin are, what they look like and how they are parsed.\n",
    "\n",
    "### Transaction Components\n",
    "\n",
    "At a high level, a transaction really only has 4 components. They are:\n",
    "\n",
    "1. Version\n",
    "2. Inputs\n",
    "3. Outputs\n",
    "4. Locktime\n",
    "\n",
    "At this point a general overview of these fields might be helpful. Version defines what the format of the transaction is supposed to be, Inputs define what bitcoins are being spent, Outputs define where the bitcoins are going and Locktime defines what time this transaction starts being valid. We'll go through each component in depth.\n",
    "\n",
    "### Version\n",
    "\n",
    "When you see a version number in something, it's meant to give the receiver information about what the versioned thing is supposed to represent. If, for example, you are running Windows 3.1, that's a version number that's very differnt than Windows 8 or Windows 10. You could specify just \"Windows\", but specifying the version number after the operating system helps you know what features it has and what API's you can program against.\n",
    "\n",
    "In a similar way, Bitcoin transactions have version numbers. In Bitcoin's case, the transaction version has never been updated since version 1.\n",
    "\n",
    "You may notice here that the actual value in hexadecimal is 01000000, which doesn't look like 1. It actually is when the interpreted as a little-endian integer."
   ]
  },
  {
   "cell_type": "markdown",
   "metadata": {},
   "source": [
    "### Test Driven Exercise\n",
    "\n",
    "Parse the transaction version."
   ]
  },
  {
   "cell_type": "code",
   "execution_count": 4,
   "metadata": {},
   "outputs": [],
   "source": [
    "from tx import Tx\n",
    "from helper import (\n",
    "    little_endian_to_int,\n",
    "    read_varint,\n",
    ")\n",
    "\n",
    "class Tx(Tx):\n",
    "\n",
    "    @classmethod\n",
    "    def parse(cls, s):\n",
    "        '''Takes a byte stream and parses the transaction at the start\n",
    "        return a Tx object\n",
    "        '''\n",
    "        # s.read(n) will return n bytes\n",
    "        # version has 4 bytes, little-endian, interpret as int\n",
    "        version = little_endian_to_int(s.read(4))\n",
    "        # leave inputs, outputs and locktime empty for now\n",
    "        inputs = []\n",
    "        outputs = []\n",
    "        locktime = []\n",
    "        # return an instance of the class (cls(...))\n",
    "        return cls(version, inputs, outputs, locktime)\n",
    "\n",
    "\n",
    "From: dstanton@protonmail.ch <dstanton@protonmail.ch>\n",
    "Sent: Thursday, July 26, 2018 11:57:28 AM\n",
    "To: cstanton817@hotmail.com\n",
    "Subject: point addition 0\n",
    " \n",
    "if self.x is None and self.y is None:\n",
    "            return\n",
    "        # make sure that the elliptic curve equation is satisfied\n",
    "        # y**2 == x**3 + a*x + b\n",
    "        if self.y**2 != self.x**3 + a*x + b:\n",
    "        # if not, throw a RuntimeError\n",
    "            raise RuntimeError('({}, {}) is not on the curve'.format(self.x, self.y))\n",
    "\n",
    "    def __add__(self, other):\n",
    "        if self.a != other.a or self.b != other.b:\n",
    "            raise RuntimeError('Points {}, {} are not on the same curve'.format(self, other))\n",
    "        # Case 0.0: self is the point at infinity, return other\n",
    "        if self.x is None:\n",
    "            return other\n",
    "        # Case 0.1: other is the point at infinity, return self\n",
    "        if other.x is None:\n",
    "            return self\n",
    "        # Case 1: self.x == other.x, self.y != other.y\n",
    "        # Result is point at infinity\n",
    "        if self.x == other.x and self.y != other.y:\n",
    "        # Remember to return an instance of this class:\n",
    "        # self.__class__(x, y, a, b)\n",
    "            return self.__class__(None, None, self.a, self.b)\n",
    "       "
   ]
  }
 ],
 "metadata": {
  "kernelspec": {
   "display_name": "Python 3",
   "language": "python",
   "name": "python3"
  },
  "language_info": {
   "codemirror_mode": {
    "name": "ipython",
    "version": 3
   },
   "file_extension": ".py",
   "mimetype": "text/x-python",
   "name": "python",
   "nbconvert_exporter": "python",
   "pygments_lexer": "ipython3",
   "version": "3.6.4"
  }
 },
 "nbformat": 4,
 "nbformat_minor": 2
}
